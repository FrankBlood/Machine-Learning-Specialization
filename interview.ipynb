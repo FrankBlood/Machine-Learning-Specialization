{
 "cells": [
  {
   "cell_type": "code",
   "execution_count": 10,
   "metadata": {
    "collapsed": false
   },
   "outputs": [],
   "source": [
    "#test4\n",
    "import re\n",
    "import string\n",
    "def reverseUrl(url):\n",
    "    s = r'^/[0-9a-zA-Z\\.]/$'\n",
    "    header = 'http:/'\n",
    "    last = '^/[0-9a-zA-Z]\\.html'\n",
    "    temp = re.search(s, url)\n",
    "    for i in temp:\n",
    "        if i == temp[0]:\n",
    "            continue\n",
    "        t += temp[i].reverse()\n",
    "    l = re.search(last, url)\n",
    "    return header + temp + l"
   ]
  },
  {
   "cell_type": "code",
   "execution_count": 12,
   "metadata": {
    "collapsed": false
   },
   "outputs": [
    {
     "ename": "SyntaxError",
     "evalue": "invalid syntax (<ipython-input-12-777009fa5620>, line 8)",
     "traceback": [
      "\u001b[1;36m  File \u001b[1;32m\"<ipython-input-12-777009fa5620>\"\u001b[1;36m, line \u001b[1;32m8\u001b[0m\n\u001b[1;33m    if i % j == 0:\u001b[0m\n\u001b[1;37m                 ^\u001b[0m\n\u001b[1;31mSyntaxError\u001b[0m\u001b[1;31m:\u001b[0m invalid syntax\n"
     ],
     "output_type": "error"
    }
   ],
   "source": [
    "#test1\n",
    "import math\n",
    "def createPrime():\n",
    "    l = []\n",
    "    sum = 0\n",
    "    for i in range(1000000):\n",
    "        s = range(2, int(math.sqrt(i) + 1)\n",
    "        for j in s\n",
    "            if i % j == 0:\n",
    "                break\n",
    "            if j = s[-1]: \n",
    "                l.append(i) \n",
    "                sum += 1\n",
    "    if sum > 1000:\n",
    "        return l"
   ]
  },
  {
   "cell_type": "code",
   "execution_count": 16,
   "metadata": {
    "collapsed": false
   },
   "outputs": [],
   "source": [
    "#test2\n",
    "import string         \n",
    "def reverse(strings):\n",
    "    lenghts = len(strings)\n",
    "    for i in range(lenghts):\n",
    "        if strings[i].isupper():\n",
    "            strings[i].lower()\n",
    "        else:\n",
    "            strings[i].upper()\n",
    "    return strings"
   ]
  },
  {
   "cell_type": "code",
   "execution_count": 14,
   "metadata": {
    "collapsed": true
   },
   "outputs": [],
   "source": [
    "#test3\n",
    "import string\n",
    "def uniqueSorted(strings):\n",
    "    l = ['A','B','C','D','E','F','G','H','I','J','K','L','M','N','O','P','Q','R','S','T','U','V','W','X','Y','Z']\n",
    "    sum = [0]*len(l)\n",
    "    s = ''\n",
    "    for i in strings:\n",
    "        if i in l:\n",
    "            sum[l.index(i)] = 1\n",
    "    for i in sum:\n",
    "        if i == 1:\n",
    "            s += str(l[sum.index(i)])\n",
    "    print(s)"
   ]
  },
  {
   "cell_type": "code",
   "execution_count": null,
   "metadata": {
    "collapsed": true
   },
   "outputs": [],
   "source": [
    ""
   ]
  }
 ],
 "metadata": {
  "kernelspec": {
   "display_name": "Python 3",
   "language": "python",
   "name": "python3"
  },
  "language_info": {
   "codemirror_mode": {
    "name": "ipython",
    "version": 3.0
   },
   "file_extension": ".py",
   "mimetype": "text/x-python",
   "name": "python",
   "nbconvert_exporter": "python",
   "pygments_lexer": "ipython3",
   "version": "3.5.1"
  }
 },
 "nbformat": 4,
 "nbformat_minor": 0
}